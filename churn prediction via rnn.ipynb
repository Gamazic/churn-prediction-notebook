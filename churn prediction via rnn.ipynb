{
 "cells": [
  {
   "cell_type": "markdown",
   "id": "ef2d2a95",
   "metadata": {},
   "source": [
    "# Предисловие: \n",
    "\n",
    "Поскольку я в большей степени ориентировался на построение модели и выполнение задачи, то случаи выбросов я буду просто отбрасывать без дальнейшего анализа. Ясно, что в реальном анализе такое не допустимо, но здесь ограничимся этим.\n",
    "\n",
    "Также в требовании была указана единая тетрадка, хотя изначально я делал разбиения на модули. Из за этого тетрадка не до конца целостная. Например, где то присутствует type hinting и docstring, а где то приходится повторно загружать датафрейм, чтобы можно было сохранить разбиение тетради на логические части."
   ]
  },
  {
   "cell_type": "code",
   "execution_count": 1,
   "id": "2a76d9b7",
   "metadata": {},
   "outputs": [],
   "source": [
    "import itertools\n",
    "import pickle\n",
    "from typing import Union\n",
    "\n",
    "import matplotlib.pyplot as plt\n",
    "import numpy as np\n",
    "import pandas as pd\n",
    "import torch\n",
    "import torch.nn.functional as F\n",
    "from IPython.display import clear_output\n",
    "from sklearn.preprocessing import MinMaxScaler\n",
    "from torch import nn\n",
    "from torch.nn.utils.rnn import (PackedSequence, pack_padded_sequence,\n",
    "                                pad_packed_sequence)\n",
    "from torch.utils.data import DataLoader, Dataset"
   ]
  },
  {
   "cell_type": "markdown",
   "id": "8b815769",
   "metadata": {},
   "source": [
    "# Загрузим и предобработаем данные"
   ]
  },
  {
   "cell_type": "code",
   "execution_count": 33,
   "id": "b2348679",
   "metadata": {},
   "outputs": [],
   "source": [
    "df = pd.read_excel('data.xlsb', engine='pyxlsb').drop(['ID ЗАКАЗА'], axis=1)"
   ]
  },
  {
   "cell_type": "code",
   "execution_count": 34,
   "id": "423c7947",
   "metadata": {},
   "outputs": [],
   "source": [
    "with open('data.pickle', 'wb') as f:\n",
    "    pickle.dump(df, f)"
   ]
  },
  {
   "cell_type": "code",
   "execution_count": 3,
   "id": "cc4a19e6",
   "metadata": {},
   "outputs": [],
   "source": [
    "df = df.rename({'ДАТА ЗАКАЗА': 'date', \n",
    "                'СУММА ЗАКАЗА': 'sum', \n",
    "                'ID КЛИЕНТА': 'user_id',\n",
    "                'НАЗВАНИЕ КУПОНА': 'coup',\n",
    "                'НАИМЕНОВАНИЕ АКЦИИ': 'prom'}, axis=1)"
   ]
  },
  {
   "cell_type": "markdown",
   "id": "bbf72bae",
   "metadata": {},
   "source": [
    "* Посмотрим на заполненность таблицы"
   ]
  },
  {
   "cell_type": "code",
   "execution_count": 4,
   "id": "4d0d712b",
   "metadata": {},
   "outputs": [
    {
     "data": {
      "text/plain": [
       "date           0\n",
       "sum            0\n",
       "user_id        0\n",
       "coup       50044\n",
       "prom       50022\n",
       "dtype: int64"
      ]
     },
     "execution_count": 4,
     "metadata": {},
     "output_type": "execute_result"
    }
   ],
   "source": [
    "df.isna().sum()"
   ]
  },
  {
   "cell_type": "markdown",
   "id": "6852619c",
   "metadata": {},
   "source": [
    "Видно, что в основном никто не пользуется акциями, но я все равно в дальнейшем попробую вытащить оттуда информацию"
   ]
  },
  {
   "cell_type": "markdown",
   "id": "19a223d7",
   "metadata": {},
   "source": [
    "* Построим гистограмму суммы заказов"
   ]
  },
  {
   "cell_type": "code",
   "execution_count": 5,
   "id": "f31cb259",
   "metadata": {},
   "outputs": [
    {
     "data": {
      "text/plain": [
       "<AxesSubplot:>"
      ]
     },
     "execution_count": 5,
     "metadata": {},
     "output_type": "execute_result"
    },
    {
     "data": {
      "image/png": "[encoded data removed]",
      "text/plain": [
       "<Figure size 432x288 with 1 Axes>"
      ]
     },
     "metadata": {
      "needs_background": "light"
     },
     "output_type": "display_data"
    }
   ],
   "source": [
    "df['sum'].hist()"
   ]
  },
  {
   "cell_type": "markdown",
   "id": "3805e949",
   "metadata": {},
   "source": [
    "Присутствуют явные выбросы. Отбросим такие транзакции."
   ]
  },
  {
   "cell_type": "code",
   "execution_count": 6,
   "id": "32ffbcac",
   "metadata": {},
   "outputs": [
    {
     "data": {
      "text/plain": [
       "<AxesSubplot:>"
      ]
     },
     "execution_count": 6,
     "metadata": {},
     "output_type": "execute_result"
    },
    {
     "data": {
      "image/png": "[encoded data removed]",
      "text/plain": [
       "<Figure size 432x288 with 1 Axes>"
      ]
     },
     "metadata": {
      "needs_background": "light"
     },
     "output_type": "display_data"
    }
   ],
   "source": [
    "df = df[(df['sum'] - df['sum'].mean()) < df['sum'].std() * 2]\n",
    "df['sum'].hist()"
   ]
  },
  {
   "cell_type": "markdown",
   "id": "1e2f7c81",
   "metadata": {},
   "source": [
    "Так намного лучше."
   ]
  },
  {
   "cell_type": "markdown",
   "id": "3dfa8788",
   "metadata": {},
   "source": [
    "* Посмотрим на даты"
   ]
  },
  {
   "cell_type": "code",
   "execution_count": 7,
   "id": "304544f2",
   "metadata": {},
   "outputs": [
    {
     "data": {
      "text/plain": [
       "<AxesSubplot:>"
      ]
     },
     "execution_count": 7,
     "metadata": {},
     "output_type": "execute_result"
    },
    {
     "data": {
      "image/png": "[encoded data removed]",
      "text/plain": [
       "<Figure size 432x288 with 1 Axes>"
      ]
     },
     "metadata": {
      "needs_background": "light"
     },
     "output_type": "display_data"
    }
   ],
   "source": [
    "df['date'].hist()"
   ]
  },
  {
   "cell_type": "markdown",
   "id": "7aa2606b",
   "metadata": {},
   "source": [
    "Пусть точкой отсчета дат транзакций для кажого пользователя будет 0.\n",
    "\n",
    "При таком условии, мы будем считать каждую первую покупку пользователя независимой от времени и сезона. Делаю это в надежде на лучшую обобщающую способность системы. Также т.к. даты смещены к концу, то это поможет избежать переобучения на последние даты."
   ]
  },
  {
   "cell_type": "code",
   "execution_count": 8,
   "id": "2483ba30",
   "metadata": {},
   "outputs": [],
   "source": [
    "def add_rel_dates(df):\n",
    "    # Создание относительной даты.\n",
    "    clients_date = df.groupby('user_id')['date'].agg(lambda x: x.tolist()).to_dict()\n",
    "    first_order = df.groupby('user_id')['date'].min().to_dict()\n",
    "    for k, v in clients_date.items():\n",
    "        clients_date[k] = [(date - first_order[k]) for date in v]\n",
    "    user_date_tuples = []\n",
    "    for k, v in clients_date.items():\n",
    "        for date in v:\n",
    "            user_date_tuples.append((k, date))\n",
    "\n",
    "    df_normed = pd.DataFrame(user_date_tuples, columns=['user_id', 'rel_date'])\n",
    "\n",
    "    df_normed = df_normed.sort_values(by=['user_id', 'rel_date'], ignore_index=True)\n",
    "    df = df.sort_values(by=['user_id', 'date'], ignore_index=True)\n",
    "\n",
    "    df['rel_date'] = df_normed['rel_date']\n",
    "    return df, first_order"
   ]
  },
  {
   "cell_type": "code",
   "execution_count": 9,
   "id": "27c49232",
   "metadata": {},
   "outputs": [
    {
     "data": {
      "text/plain": [
       "<AxesSubplot:>"
      ]
     },
     "execution_count": 9,
     "metadata": {},
     "output_type": "execute_result"
    },
    {
     "data": {
      "image/png": "[encoded data removed]",
      "text/plain": [
       "<Figure size 432x288 with 1 Axes>"
      ]
     },
     "metadata": {
      "needs_background": "light"
     },
     "output_type": "display_data"
    }
   ],
   "source": [
    "df, first_order = add_rel_dates(df)\n",
    "df['rel_date'].hist(bins=20)"
   ]
  },
  {
   "cell_type": "markdown",
   "id": "985ab097",
   "metadata": {},
   "source": [
    "Способ востановления исходной даты:"
   ]
  },
  {
   "cell_type": "code",
   "execution_count": 10,
   "id": "896c2f5c",
   "metadata": {},
   "outputs": [],
   "source": [
    "def origin_date(first_order, rel_date):\n",
    "    return first_order + rel_date\n",
    "\n",
    "assert origin_date(first_order[1], df['rel_date'][2]) == df['date'][2]"
   ]
  },
  {
   "cell_type": "markdown",
   "id": "fa47b470",
   "metadata": {},
   "source": [
    "* Вытащим признаки из наименования акции: скидка и на какой по счету заказ распространяется акция"
   ]
  },
  {
   "cell_type": "code",
   "execution_count": 11,
   "id": "ae6f01cb",
   "metadata": {},
   "outputs": [],
   "source": [
    "def get_features(line):\n",
    "    if isinstance(line, str):\n",
    "        line = line.lower()\n",
    "        end_of_prise = line.find('руб')\n",
    "        discount = line[:end_of_prise].split()[-1]\n",
    "        if discount.isdigit():\n",
    "            discount = int(discount)\n",
    "        else:\n",
    "            discount=0\n",
    "\n",
    "        order_dict = {\n",
    "            'первый': 1, \n",
    "            '1-ый': 1,\n",
    "            # Сомнительно, но если так сделать, то будет порядок.\n",
    "            'следующий': 1,\n",
    "            'второй': 2, \n",
    "            '2-ой': 2,\n",
    "            'третий': 3,\n",
    "        }\n",
    "        order = 0\n",
    "        for k in order_dict.keys():\n",
    "            if k in line:\n",
    "                order = order_dict[k]\n",
    "        return discount, order\n",
    "    else:\n",
    "        return 0, 0"
   ]
  },
  {
   "cell_type": "code",
   "execution_count": 12,
   "id": "3cb2215c",
   "metadata": {},
   "outputs": [],
   "source": [
    "prom_features = df['prom'].apply(get_features)\n",
    "df[['disc', 'disc_order']] = pd.DataFrame(prom_features.tolist(),\n",
    "                                          columns=['disc', 'disc_order'],\n",
    "                                          index=prom_features.index)"
   ]
  },
  {
   "cell_type": "markdown",
   "id": "89ff5353",
   "metadata": {},
   "source": [
    "* Выкинем лишние столбики и поменяем оставшиеся местами для удобства"
   ]
  },
  {
   "cell_type": "code",
   "execution_count": 13,
   "id": "d312b012",
   "metadata": {},
   "outputs": [],
   "source": [
    "df = df.drop(['date', 'coup', 'prom'], axis=1)\n",
    "df = df.reindex(columns=['user_id', 'rel_date', 'sum', 'disc', 'disc_order'])"
   ]
  },
  {
   "cell_type": "code",
   "execution_count": 14,
   "id": "8ff96c0f",
   "metadata": {},
   "outputs": [
    {
     "data": {
      "text/html": [
       "<div>\n",
       "<style scoped>\n",
       "    .dataframe tbody tr th:only-of-type {\n",
       "        vertical-align: middle;\n",
       "    }\n",
       "\n",
       "    .dataframe tbody tr th {\n",
       "        vertical-align: top;\n",
       "    }\n",
       "\n",
       "    .dataframe thead th {\n",
       "        text-align: right;\n",
       "    }\n",
       "</style>\n",
       "<table border=\"1\" class=\"dataframe\">\n",
       "  <thead>\n",
       "    <tr style=\"text-align: right;\">\n",
       "      <th></th>\n",
       "      <th>user_id</th>\n",
       "      <th>rel_date</th>\n",
       "      <th>sum</th>\n",
       "      <th>disc</th>\n",
       "      <th>disc_order</th>\n",
       "    </tr>\n",
       "  </thead>\n",
       "  <tbody>\n",
       "    <tr>\n",
       "      <th>0</th>\n",
       "      <td>1</td>\n",
       "      <td>0</td>\n",
       "      <td>1.00</td>\n",
       "      <td>0</td>\n",
       "      <td>0</td>\n",
       "    </tr>\n",
       "    <tr>\n",
       "      <th>1</th>\n",
       "      <td>1</td>\n",
       "      <td>147</td>\n",
       "      <td>2438.00</td>\n",
       "      <td>0</td>\n",
       "      <td>0</td>\n",
       "    </tr>\n",
       "    <tr>\n",
       "      <th>2</th>\n",
       "      <td>1</td>\n",
       "      <td>262</td>\n",
       "      <td>6164.96</td>\n",
       "      <td>0</td>\n",
       "      <td>0</td>\n",
       "    </tr>\n",
       "    <tr>\n",
       "      <th>3</th>\n",
       "      <td>5</td>\n",
       "      <td>0</td>\n",
       "      <td>429.66</td>\n",
       "      <td>0</td>\n",
       "      <td>0</td>\n",
       "    </tr>\n",
       "    <tr>\n",
       "      <th>4</th>\n",
       "      <td>5</td>\n",
       "      <td>45</td>\n",
       "      <td>4432.49</td>\n",
       "      <td>0</td>\n",
       "      <td>0</td>\n",
       "    </tr>\n",
       "  </tbody>\n",
       "</table>\n",
       "</div>"
      ],
      "text/plain": [
       "   user_id  rel_date      sum  disc  disc_order\n",
       "0        1         0     1.00     0           0\n",
       "1        1       147  2438.00     0           0\n",
       "2        1       262  6164.96     0           0\n",
       "3        5         0   429.66     0           0\n",
       "4        5        45  4432.49     0           0"
      ]
     },
     "execution_count": 14,
     "metadata": {},
     "output_type": "execute_result"
    }
   ],
   "source": [
    "df.head()"
   ]
  },
  {
   "cell_type": "markdown",
   "id": "0ee265a4",
   "metadata": {},
   "source": [
    "* Приведем данные к векторам и разобьем их на train и test."
   ]
  },
  {
   "cell_type": "markdown",
   "id": "d4bb8bd5",
   "metadata": {},
   "source": [
    "Нормализуем данные"
   ]
  },
  {
   "cell_type": "code",
   "execution_count": 15,
   "id": "a2a17b11",
   "metadata": {},
   "outputs": [],
   "source": [
    "min_max_scaler = MinMaxScaler()\n",
    "df[['rel_date', 'sum', \n",
    "    'disc', 'disc_order']] = min_max_scaler.fit_transform(df[['rel_date', 'sum',\n",
    "                                                              'disc', 'disc_order']])\n",
    "\n",
    "min_values = min_max_scaler.data_min_\n",
    "max_values = min_max_scaler.data_max_"
   ]
  },
  {
   "cell_type": "markdown",
   "id": "1406ebe1",
   "metadata": {},
   "source": [
    "Отсортируем и сгруппируем данные по `user_id`. Таким образом на выходе будут последовательности признаков пользователей в исходном порядке"
   ]
  },
  {
   "cell_type": "code",
   "execution_count": 16,
   "id": "f85c7b88",
   "metadata": {},
   "outputs": [],
   "source": [
    "df = df.sort_values(by=['user_id', 'rel_date'])\n",
    "grouped_df = df.groupby('user_id').agg(lambda x: x.tolist())"
   ]
  },
  {
   "cell_type": "markdown",
   "id": "145cb9b3",
   "metadata": {},
   "source": [
    "Проиндексируем пользователей и применим индексацию"
   ]
  },
  {
   "cell_type": "code",
   "execution_count": 17,
   "id": "26a39370",
   "metadata": {},
   "outputs": [],
   "source": [
    "# -1 это абстрактный pad токен.\n",
    "idx2user = [-1] + grouped_df.index.tolist()\n",
    "user2idx = {u: i for i, u in enumerate(idx2user)}\n",
    "\n",
    "grouped_df.index = grouped_df.index.map(user2idx)"
   ]
  },
  {
   "cell_type": "markdown",
   "id": "4bfcf6a9",
   "metadata": {},
   "source": [
    "Функция для фильтрации максимальной и минимальной длины последовательности на обучении."
   ]
  },
  {
   "cell_type": "code",
   "execution_count": 18,
   "id": "4adbe974",
   "metadata": {},
   "outputs": [],
   "source": [
    "MIN_SEQ_LEN = 3\n",
    "MAX_SEQ_LEN = 50\n",
    "\n",
    "def filter_seq(seq, min_seq_len, max_seq_len):\n",
    "    if len(seq) >= min_seq_len and len(seq) <= max_seq_len:\n",
    "        return seq\n",
    "    else:\n",
    "        return None"
   ]
  },
  {
   "cell_type": "markdown",
   "id": "b28e61b0",
   "metadata": {},
   "source": [
    "Теперь отфильтруем последовательности по длине"
   ]
  },
  {
   "cell_type": "code",
   "execution_count": 19,
   "id": "976a739d",
   "metadata": {},
   "outputs": [],
   "source": [
    "grouped_df['rel_date'] = grouped_df['rel_date'].apply(lambda x: filter_seq(x, MIN_SEQ_LEN, MAX_SEQ_LEN))\n",
    "grouped_df = grouped_df.dropna()"
   ]
  },
  {
   "cell_type": "markdown",
   "id": "646b68bb",
   "metadata": {},
   "source": [
    "Приведем данные к векторному виду и запишем максимальную длину последовательстей"
   ]
  },
  {
   "cell_type": "code",
   "execution_count": 20,
   "id": "6d7638cc",
   "metadata": {},
   "outputs": [],
   "source": [
    "max_len = 0\n",
    "data = []\n",
    "for row in grouped_df.itertuples(name=None):\n",
    "    seq_len = len(row[1])\n",
    "    features = np.array([[row[0]] * seq_len] + list(row[1:])).T\n",
    "    if seq_len > 2 and seq_len <= 50:\n",
    "        if max_len < seq_len:\n",
    "            max_len = seq_len\n",
    "        data.append(features)"
   ]
  },
  {
   "cell_type": "markdown",
   "id": "3f7033e2",
   "metadata": {},
   "source": [
    "Вот так выглядят наше векторное представление"
   ]
  },
  {
   "cell_type": "code",
   "execution_count": 21,
   "id": "b27eb2d2",
   "metadata": {},
   "outputs": [
    {
     "data": {
      "text/plain": [
       "[array([[1.00000000e+00, 0.00000000e+00, 7.96848941e-05, 0.00000000e+00,\n",
       "         0.00000000e+00],\n",
       "        [1.00000000e+00, 2.22390318e-01, 1.94271772e-01, 0.00000000e+00,\n",
       "         0.00000000e+00],\n",
       "        [1.00000000e+00, 3.96369138e-01, 4.91254184e-01, 0.00000000e+00,\n",
       "         0.00000000e+00]]),\n",
       " array([[2.        , 0.        , 0.03423741, 0.        , 0.        ],\n",
       "        [2.        , 0.06807867, 0.3532025 , 0.        , 0.        ],\n",
       "        [2.        , 0.0892587 , 0.23522104, 0.        , 0.        ],\n",
       "        [2.        , 0.15582451, 0.09764188, 0.        , 0.        ],\n",
       "        [2.        , 0.1785174 , 0.15233839, 0.        , 0.        ],\n",
       "        [2.        , 0.29046899, 0.36872033, 0.        , 0.        ],\n",
       "        [2.        , 0.30408472, 0.17961772, 0.        , 0.        ],\n",
       "        [2.        , 0.3419062 , 0.10810451, 0.        , 0.        ],\n",
       "        [2.        , 0.35098336, 0.22918093, 0.        , 0.        ],\n",
       "        [2.        , 0.37065053, 0.25429442, 0.        , 0.        ],\n",
       "        [2.        , 0.3903177 , 0.12128917, 0.        , 0.        ],\n",
       "        [2.        , 0.39485628, 0.12361358, 0.        , 0.        ],\n",
       "        [2.        , 0.40847201, 0.09054116, 0.        , 0.        ],\n",
       "        [2.        , 0.43419062, 0.21608232, 0.        , 0.        ],\n",
       "        [2.        , 0.44931921, 0.16240738, 0.        , 0.        ],\n",
       "        [2.        , 0.47503782, 0.15034707, 0.        , 0.        ],\n",
       "        [2.        , 0.49470499, 0.30936066, 0.        , 0.        ],\n",
       "        [2.        , 0.51588502, 0.11479246, 0.        , 0.        ],\n",
       "        [2.        , 0.53252648, 0.13133664, 0.        , 0.        ],\n",
       "        [2.        , 0.55068079, 0.46979903, 0.        , 0.        ],\n",
       "        [2.        , 0.56429652, 0.18225768, 0.        , 0.        ],\n",
       "        [2.        , 0.57791225, 0.24306044, 0.        , 0.        ],\n",
       "        [2.        , 0.58396369, 0.11490562, 0.        , 0.        ],\n",
       "        [2.        , 0.64447806, 0.12026522, 0.        , 0.        ],\n",
       "        [2.        , 0.68229955, 0.17105478, 0.        , 0.        ],\n",
       "        [2.        , 0.69288956, 0.2343716 , 0.        , 0.        ],\n",
       "        [2.        , 0.77155825, 0.1588112 , 0.        , 0.        ],\n",
       "        [2.        , 0.7806354 , 0.12679938, 0.        , 0.        ],\n",
       "        [2.        , 0.8214826 , 0.12974773, 0.        , 0.        ],\n",
       "        [2.        , 0.84114977, 0.18834083, 0.        , 0.        ]])]"
      ]
     },
     "execution_count": 21,
     "metadata": {},
     "output_type": "execute_result"
    }
   ],
   "source": [
    "data[:2]"
   ]
  },
  {
   "cell_type": "markdown",
   "id": "c66f433a",
   "metadata": {},
   "source": [
    "* Создам свое разбиение выборки на `train` и `test`. Далее я обьясняю каким образом происходит разбиение и почему"
   ]
  },
  {
   "cell_type": "code",
   "execution_count": 22,
   "id": "9ca14a15",
   "metadata": {},
   "outputs": [],
   "source": [
    "def train_test_split(data):\n",
    "    train_inp = []\n",
    "    train_target = []\n",
    "    test_inp = []\n",
    "    test_target = []\n",
    "\n",
    "    for features in data:\n",
    "        train_inp.append(features[:-2])\n",
    "        test_inp.append(features[:-1])\n",
    "        train_target.append(features[1: -1, 1])\n",
    "        test_target.append(np.array([features[-1, 1]]))\n",
    "        \n",
    "    return (train_inp, train_target), (test_inp, test_target)"
   ]
  },
  {
   "cell_type": "markdown",
   "id": "8a35ce37",
   "metadata": {},
   "source": [
    "# Обучение, создание классов загрузки данных."
   ]
  },
  {
   "cell_type": "markdown",
   "id": "8f1ba86f",
   "metadata": {},
   "source": [
    "* Cоберу все что было выше в единый класс, чтобы в дальнейшем им было удобно пользоваться."
   ]
  },
  {
   "cell_type": "code",
   "execution_count": 23,
   "id": "9cb8e4ae",
   "metadata": {},
   "outputs": [],
   "source": [
    "class DataTransformer:\n",
    "    def transform(self, df, min_seq_len=3, max_seq_len=50, is_inference=False):\n",
    "        df = df.rename({'ДАТА ЗАКАЗА': 'date', \n",
    "                        'СУММА ЗАКАЗА': 'sum', \n",
    "                        'ID КЛИЕНТА': 'user_id',\n",
    "                        'НАЗВАНИЕ КУПОНА': 'coup',\n",
    "                        'НАИМЕНОВАНИЕ АКЦИИ': 'prom'}, axis=1)\n",
    "        \n",
    "        if is_inference:\n",
    "            min_seq_len = 0\n",
    "            max_seq_len = 100000\n",
    "        else:\n",
    "            outlier_map = (df['sum'] - df['sum'].mean()) > df['sum'].std() * 2\n",
    "            self.outlier_users = df[outlier_map].user_id.tolist()\n",
    "            df = df[~outlier_map]\n",
    "        \n",
    "        df = self._add_rel_dates(df)\n",
    "        \n",
    "        prom_features = df['prom'].apply(get_features)\n",
    "        df[['disc', 'disc_order']] = pd.DataFrame(prom_features.tolist(),\n",
    "                                                  columns=['disc', 'disc_order'],\n",
    "                                                  index=prom_features.index)\n",
    "        \n",
    "        df = df.drop(['date', 'coup', 'prom'], axis=1)\n",
    "        df = df.reindex(columns=['user_id', 'rel_date', 'sum', 'disc', 'disc_order'])\n",
    "        data = self._setup_data(df, is_inference, min_seq_len, max_seq_len)\n",
    "        return data\n",
    "    \n",
    "    def train_test_data(self, df):\n",
    "        data = self.transform(df)\n",
    "        return train_test_split(data)\n",
    "    \n",
    "    def _add_rel_dates(self, *args):\n",
    "        df, self.first_order = add_rel_dates(*args)\n",
    "        return df\n",
    "        \n",
    "    def _setup_data(self, df, is_inference, min_seq_len, max_seq_len):\n",
    "        # Если датасет используется для обучения, то обучаем min max scaler\n",
    "        if not is_inference:\n",
    "            self.min_max_scaler = MinMaxScaler()\n",
    "            self.min_max_scaler.fit(df[['rel_date', 'sum', 'disc', 'disc_order']])\n",
    "            self.min_date = self.min_max_scaler.data_min_[0]\n",
    "            self.max_date = self.min_max_scaler.data_max_[0]\n",
    "        df[['rel_date', 'sum', \n",
    "            'disc', 'disc_order']] = self.min_max_scaler.transform(df[['rel_date', 'sum', \n",
    "                                                                       'disc', 'disc_order']])\n",
    "        # сортируем, чтобы при группировке даты шли в возрастающем порядке\n",
    "        df = df.sort_values(by=['user_id', 'rel_date'])\n",
    "        # Группируем датафрейм по клиентам. В каждом столбике будут последовательности.\n",
    "        grouped_df = df.groupby('user_id').agg(lambda x: x.tolist())\n",
    "        # Если датасет используется для обучения, то индексируем клиентов.\n",
    "        if not is_inference:\n",
    "             # -1 это абстрактный pad токен. -42 - токен юзеров, которые не участвовали в обучении.\n",
    "            self.idx2user = [-1] + grouped_df.index.tolist() + self.outlier_users\n",
    "            self.user2idx = {u: i for i, u in enumerate(self.idx2user)}\n",
    "        # Меняем ID клиентов на индексы.\n",
    "        grouped_df.index = grouped_df.index.map(self.user2idx)\n",
    "        # Если датасет используется для обучения, то отбрасываем маленькие и большие последовательности.\n",
    "        if not is_inference:\n",
    "            grouped_df['rel_date'] = grouped_df['rel_date'].apply(lambda x: filter_seq(x, min_seq_len, max_seq_len))\n",
    "            grouped_df = grouped_df.dropna()\n",
    "        # Если датасет используется для инференса, \n",
    "        # то заполняем неиндексированных пользователей специальным токеном\n",
    "        else:\n",
    "#             grouped_df.index = grouped_df.index.fillna(self.user2idx[-42])\n",
    "            grouped_df = grouped_df.fillna(0)\n",
    "            \n",
    "        # Создаем векторы для обучения, находим максимальную длину последовательности.\n",
    "        self.max_len = 0\n",
    "        data = []\n",
    "        for row in grouped_df.itertuples(name=None):\n",
    "            seq_len = len(row[1])\n",
    "            features = np.array([[row[0]] * seq_len] + list(row[1:])).T\n",
    "            if self.max_len < seq_len:\n",
    "                self.max_len = seq_len\n",
    "            data.append(features)\n",
    "        \n",
    "        return data\n",
    "    \n",
    "    def get_origin_date(self, user_id, date):\n",
    "        user_id = self.idx2user[user_id]\n",
    "        rel_date = (date * (self.max_date - self.min_date) + self.min_date)\n",
    "        return self.first_order[user_id] + rel_date"
   ]
  },
  {
   "cell_type": "markdown",
   "id": "96c8acf0",
   "metadata": {},
   "source": [
    "## Построение модели и итератора по данным.\n",
    "В качестве базы для ML модели я взял LSTM rnn.\n",
    "\n",
    "Модель будет учится предсказывать следующую дату заказа по следующим данным:\n",
    "\n",
    "`ID клиента, дата предыдущего заказа, сумма предыдущего заказа, скидка по купону, на какой заказ по счету распространяется скидка`"
   ]
  },
  {
   "cell_type": "markdown",
   "id": "c4adcc44",
   "metadata": {},
   "source": [
    "Не стал как то комментировать эти пункты в markdown. Это был отдельный модуль, в котором я заранее решил все закомменировать в docstring-ах."
   ]
  },
  {
   "cell_type": "code",
   "execution_count": 24,
   "id": "6ecdcd13",
   "metadata": {},
   "outputs": [],
   "source": [
    "# ==== utils ==== #\n",
    "\n",
    "def pad_sequence(array: np.array, max_len: int, pad_idx: int) -> np.array:\n",
    "    \"\"\"\n",
    "    Прибавляет к последовательности pad токены\n",
    "    \"\"\"\n",
    "    dim = len(array.shape)\n",
    "    shape = (max_len - array.shape[0], *array.shape[1:])\n",
    "    padding_array = np.full(shape, pad_idx)\n",
    "    if dim > 1:\n",
    "        return np.vstack((array, padding_array))\n",
    "    else:\n",
    "        return np.hstack((array, padding_array))\n",
    "\n",
    "def shift_range(range_list: list, shift: int) -> list:\n",
    "    \"\"\"\n",
    "    shift_range([1, 3, 4], 5) -> \n",
    "            [0, 0+5, 1+5, 2+5, 0 + 2*5, 1 + 2*5, 2 + 2*5, 3 + 2*5]\n",
    "    \"\"\"\n",
    "    res = []\n",
    "    for i, r in enumerate(range_list):\n",
    "        res.extend(list(range(i*shift, r + i*shift)))\n",
    "    return res\n",
    "\n",
    "def flat_packed_sequence(packed_sequence: PackedSequence) -> torch.Tensor:\n",
    "    \"\"\"\n",
    "    Преобразует запакованную последовательность в плоский тензор(без паддинга), \n",
    "    который меньше на одну размерность.\n",
    "    \"\"\"\n",
    "    padded_sequence, seq_lens = pad_packed_sequence(packed_sequence, batch_first=True)\n",
    "    seq_lens = seq_lens.tolist()\n",
    "    non_pad_indexes = shift_range(seq_lens, max(seq_lens))\n",
    "    flat_sequence = padded_sequence.view(-1, padded_sequence.size(2))\n",
    "    flat_sequence = flat_sequence[non_pad_indexes]\n",
    "    return flat_sequence\n",
    "\n",
    "def flat_padded_sequence(pad_sequence: torch.Tensor, seq_lens: list) -> torch.Tensor:\n",
    "    \"\"\"\n",
    "    Преобразует теноз с паддингом в плоский тензор,\n",
    "    который меньше на одну размерность.\n",
    "    \"\"\"\n",
    "    packed_sequence = pack_padded_sequence(pad_sequence, seq_lens, batch_first=True, enforce_sorted=False)\n",
    "    return flat_packed_sequence(packed_sequence)\n",
    "\n",
    "# ==== Classes ==== #\n",
    "\n",
    "class RNNDataset(Dataset):\n",
    "    \"\"\"\n",
    "    Класс, преобразующий входные данные в \n",
    "    данные, которые способна принимать на вход\n",
    "    модель.\n",
    "    \"\"\"\n",
    "    def __init__(self, inp: list, target: list, max_len: int, \n",
    "                 pad_idx: int=0, stage: str='fit') -> None:\n",
    "        \"\"\"stage: [fit, validate, inference]\"\"\"\n",
    "        self.stage = stage\n",
    "        self.inp = inp\n",
    "        if stage != 'inference':\n",
    "            self.target = target\n",
    "        self.max_len = max_len\n",
    "        self.pad_idx = pad_idx\n",
    "    \n",
    "    def __len__(self):\n",
    "        return len(self.inp)\n",
    "        \n",
    "    def __getitem__(self, idx: int) -> dict:\n",
    "        data = dict()\n",
    "        \n",
    "        inp = self.inp[idx]\n",
    "        seq_len = inp.shape[0]\n",
    "        inp = pad_sequence(inp, self.max_len, self.pad_idx)\n",
    "\n",
    "        user_id = inp[:, 0]\n",
    "        feature = inp[:, 1:]\n",
    "        \n",
    "        if self.stage != 'inference':\n",
    "            target = self.target[idx]\n",
    "        if self.stage == 'fit':\n",
    "            target = pad_sequence(target, self.max_len, self.pad_idx)\n",
    "        \n",
    "        data = {\n",
    "            'user_id': torch.LongTensor(user_id),\n",
    "            'feature': torch.FloatTensor(feature),\n",
    "            'inp_len': torch.tensor(seq_len)\n",
    "        }\n",
    "        \n",
    "        if self.stage != 'inference':\n",
    "            data['target'] = torch.FloatTensor(target).reshape(-1,1)\n",
    "        \n",
    "        return data\n",
    "\n",
    "\n",
    "class RNNModel(nn.Module):\n",
    "    \"\"\"\n",
    "    Рекурентная модель для предсказания следующий даты покупки.\n",
    "    ID пользователя преобразуется в вектор с помощью nn.Emdedding,\n",
    "    остальные признаки конкатинируются с полученным вектором.\n",
    "    Далее подается на вход LSTM сети.\n",
    "    \"\"\"\n",
    "    def __init__(self, vocab_size: int, hidden_size: int, n_layers: int, \n",
    "                 emb_size: int, pad_idx: int) -> None:\n",
    "        super().__init__()\n",
    "#         self.max_len = max_len\n",
    "        self.emb_size = emb_size\n",
    "        self.n_layers = n_layers\n",
    "        self.hidden_size = hidden_size\n",
    "\n",
    "        self.emb = nn.Embedding(num_embeddings=vocab_size, \n",
    "                                embedding_dim=emb_size,\n",
    "                                padding_idx=pad_idx)\n",
    "\n",
    "        # self.norm = nn.BatchNorm1d(max_len)\n",
    "\n",
    "        input_size = 4 + emb_size\n",
    "        self.rnn = nn.LSTM(input_size,\n",
    "                           hidden_size,\n",
    "                           batch_first=True,\n",
    "                           num_layers=n_layers)\n",
    "\n",
    "        self.dense = nn.Linear(hidden_size, 1)\n",
    "        \n",
    "    def forward(self, user_id: torch.Tensor, feature: torch.Tensor, \n",
    "                inp_len: torch.Tensor) -> torch.Tensor:\n",
    "        batch_size = user_id.size(0)\n",
    "        \n",
    "        user_emb = self.emb(user_id)\n",
    "        x = torch.cat((user_emb, feature), 2)\n",
    "        # x = self.norm(x)\n",
    "        x = pack_padded_sequence(x, inp_len.cpu(), batch_first=True, enforce_sorted=False)\n",
    "\n",
    "        state = self._normal_state(batch_size)\n",
    "\n",
    "        x, _ = self.rnn(x, state)\n",
    "        x = flat_packed_sequence(x)\n",
    "        \n",
    "        x = self.dense(x)\n",
    "        return x\n",
    "    \n",
    "    def _normal_state(self, batch_size: int) -> Union[torch.Tensor, tuple]:\n",
    "        \"\"\"\n",
    "        Генерирует начальное состояние для сети.\n",
    "        \"\"\"\n",
    "        device = next(self.dense.parameters()).device\n",
    "        if not isinstance(self.rnn, nn.LSTM):\n",
    "            return torch.normal(0, 1, (self.n_layers, batch_size, self.hidden_size)).to(device)\n",
    "        else:\n",
    "            return (torch.normal(0, 1, (self.n_layers, batch_size, self.hidden_size)).to(device),\n",
    "                    torch.normal(0, 1, (self.n_layers, batch_size, self.hidden_size)).to(device))\n"
   ]
  },
  {
   "cell_type": "markdown",
   "id": "57dc6bb1",
   "metadata": {},
   "source": [
    "## Метод обучения"
   ]
  },
  {
   "cell_type": "markdown",
   "id": "4b9bef6f",
   "metadata": {},
   "source": [
    "В качестве функции ошибки я взял `MSE`. Потому что она совпадает с целевой метрикой."
   ]
  },
  {
   "cell_type": "code",
   "execution_count": 25,
   "id": "3af486aa",
   "metadata": {},
   "outputs": [],
   "source": [
    "def train(num_epoch, train_loader, model, optimizer, device):\n",
    "    model.to(device)\n",
    "    model.train()\n",
    "    history=[]\n",
    "    for i in range(num_epoch):\n",
    "        for j, batch in enumerate(train_loader):\n",
    "            optimizer.zero_grad()\n",
    "            \n",
    "            user_id = batch['user_id'].to(device)\n",
    "            feature = batch['feature'].to(device)\n",
    "            inp_len = batch['inp_len']\n",
    "            \n",
    "            logits = model(user_id, feature, inp_len)\n",
    "            target = flat_padded_sequence(batch['target'], inp_len).to(device)\n",
    "            \n",
    "            loss = F.mse_loss(logits, target)\n",
    "            loss.backward()\n",
    "            optimizer.step()\n",
    "            \n",
    "            history.append(loss.item())\n",
    "    return history"
   ]
  },
  {
   "cell_type": "markdown",
   "id": "42223c26",
   "metadata": {},
   "source": [
    "## Метод тестирования"
   ]
  },
  {
   "cell_type": "markdown",
   "id": "16e1faca",
   "metadata": {},
   "source": [
    "Тестирование будет заключаться в предсказание даты последнего заказа.\n",
    "В качестве метрики будет брать RMSE по всем предсказаниям. Т.е. значение метрики - на сколько дней мы в среднем ошибаемся.\n",
    "\n",
    "Хотя это можно оценивать и подругому, но я выбрал именно такую метрику исходя из формулировки задачи. Мне нужно предсказывать следующую дату покупки, значит стоит прицеливаться именно на последнюю дату."
   ]
  },
  {
   "cell_type": "code",
   "execution_count": 26,
   "id": "70f6d81f",
   "metadata": {},
   "outputs": [],
   "source": [
    "def origin_date(rel_date, min_date, max_date):\n",
    "    return int(rel_date * (max_date - min_date) + min_date)\n",
    "\n",
    "def convert_dates(dates, min_date, max_date):\n",
    "    origin_dates = []\n",
    "    for d in dates:\n",
    "        origin_dates.append(\n",
    "                    origin_date(d, min_date, max_date)\n",
    "        )\n",
    "    return origin_dates\n",
    "\n",
    "def test(test_loader, model, device, min_date, max_date):\n",
    "    model.to(device)\n",
    "    model.eval()\n",
    "    errors = []\n",
    "    with torch.no_grad():\n",
    "        for j, batch in enumerate(test_loader):\n",
    "            user_id = batch['user_id'].to(device)\n",
    "            feature = batch['feature'].to(device)\n",
    "            inp_len = batch['inp_len']\n",
    "            \n",
    "            last_els = [x-1 for x in itertools.accumulate(inp_len.tolist())]\n",
    "            logits = model(user_id, feature, inp_len)[last_els]\n",
    "            \n",
    "            target = batch['target'].reshape(-1).tolist()\n",
    "            logits = logits.reshape(-1).tolist()\n",
    "            \n",
    "            pred = convert_dates(logits, min_date, max_date)\n",
    "            true = convert_dates(target, min_date, max_date)\n",
    "            \n",
    "            error = F.mse_loss(torch.FloatTensor(pred), torch.FloatTensor(true), reduction='none')\n",
    "            errors.extend(error.reshape(-1).tolist())\n",
    "\n",
    "    return np.mean(errors) ** 0.5"
   ]
  },
  {
   "cell_type": "markdown",
   "id": "51bf95ea",
   "metadata": {},
   "source": [
    "# Наконец иницилизируем итератор и модель, обучаемся"
   ]
  },
  {
   "cell_type": "code",
   "execution_count": 27,
   "id": "f92a3af5",
   "metadata": {},
   "outputs": [],
   "source": [
    "df = pd.read_excel('data.xlsb', engine='pyxlsb').drop(['ID ЗАКАЗА'], axis=1)\n",
    "\n",
    "dt = DataTransformer()\n",
    "(train_inp, train_target), (test_inp, test_target) = dt.train_test_data(df)\n",
    "\n",
    "train_dataset = RNNDataset(train_inp, train_target, dt.max_len)\n",
    "train_loader = DataLoader(train_dataset, batch_size=4000, shuffle=True)\n",
    "\n",
    "test_dataset = RNNDataset(test_inp, test_target, dt.max_len, stage='validate')\n",
    "test_loader = DataLoader(test_dataset, batch_size=256)"
   ]
  },
  {
   "cell_type": "code",
   "execution_count": 28,
   "id": "ef1eed5b",
   "metadata": {},
   "outputs": [],
   "source": [
    "model = RNNModel(vocab_size=len(dt.idx2user),\n",
    "                 hidden_size=512,\n",
    "                 n_layers=2,\n",
    "                 emb_size=1024,\n",
    "                 pad_idx=train_dataset.pad_idx)\n",
    "optimizer = optimizer = torch.optim.Adam(model.parameters(), lr= 1e-4)\n",
    "device = torch.device(\"cuda\" if torch.cuda.is_available() else \"cpu\")"
   ]
  },
  {
   "cell_type": "code",
   "execution_count": 29,
   "id": "d23ce68c",
   "metadata": {},
   "outputs": [],
   "source": [
    "# 90 на 30 эпохе"
   ]
  },
  {
   "cell_type": "code",
   "execution_count": 30,
   "id": "a6c31e07",
   "metadata": {},
   "outputs": [
    {
     "ename": "KeyboardInterrupt",
     "evalue": "",
     "output_type": "error",
     "traceback": [
      "\u001b[0;31m---------------------------------------------------------------------------\u001b[0m",
      "\u001b[0;31mKeyboardInterrupt\u001b[0m                         Traceback (most recent call last)",
      "\u001b[0;32m<ipython-input-30-1e00f0d15c68>\u001b[0m in \u001b[0;36m<module>\u001b[0;34m\u001b[0m\n\u001b[1;32m      5\u001b[0m \u001b[0mtest_scores\u001b[0m \u001b[0;34m=\u001b[0m \u001b[0;34m[\u001b[0m\u001b[0;34m]\u001b[0m\u001b[0;34m\u001b[0m\u001b[0;34m\u001b[0m\u001b[0m\n\u001b[1;32m      6\u001b[0m \u001b[0;32mfor\u001b[0m \u001b[0mi\u001b[0m \u001b[0;32min\u001b[0m \u001b[0mrange\u001b[0m\u001b[0;34m(\u001b[0m\u001b[0mepoch\u001b[0m \u001b[0;34m//\u001b[0m \u001b[0mval_each_step\u001b[0m \u001b[0;34m+\u001b[0m \u001b[0;36m1\u001b[0m\u001b[0;34m)\u001b[0m\u001b[0;34m:\u001b[0m\u001b[0;34m\u001b[0m\u001b[0;34m\u001b[0m\u001b[0m\n\u001b[0;32m----> 7\u001b[0;31m     \u001b[0mhistory_\u001b[0m \u001b[0;34m=\u001b[0m \u001b[0mtrain\u001b[0m\u001b[0;34m(\u001b[0m\u001b[0mval_each_step\u001b[0m\u001b[0;34m,\u001b[0m \u001b[0mtrain_loader\u001b[0m\u001b[0;34m,\u001b[0m \u001b[0mmodel\u001b[0m\u001b[0;34m,\u001b[0m \u001b[0moptimizer\u001b[0m\u001b[0;34m,\u001b[0m \u001b[0mdevice\u001b[0m\u001b[0;34m)\u001b[0m\u001b[0;34m\u001b[0m\u001b[0;34m\u001b[0m\u001b[0m\n\u001b[0m\u001b[1;32m      8\u001b[0m     \u001b[0mhistory\u001b[0m\u001b[0;34m.\u001b[0m\u001b[0mappend\u001b[0m\u001b[0;34m(\u001b[0m\u001b[0msum\u001b[0m\u001b[0;34m(\u001b[0m\u001b[0mhistory_\u001b[0m\u001b[0;34m)\u001b[0m \u001b[0;34m/\u001b[0m \u001b[0mlen\u001b[0m\u001b[0;34m(\u001b[0m\u001b[0mhistory_\u001b[0m\u001b[0;34m)\u001b[0m\u001b[0;34m)\u001b[0m\u001b[0;34m\u001b[0m\u001b[0;34m\u001b[0m\u001b[0m\n\u001b[1;32m      9\u001b[0m \u001b[0;34m\u001b[0m\u001b[0m\n",
      "\u001b[0;32m<ipython-input-25-9aac915ae0db>\u001b[0m in \u001b[0;36mtrain\u001b[0;34m(num_epoch, train_loader, model, optimizer, device)\u001b[0m\n\u001b[1;32m     15\u001b[0m \u001b[0;34m\u001b[0m\u001b[0m\n\u001b[1;32m     16\u001b[0m             \u001b[0mloss\u001b[0m \u001b[0;34m=\u001b[0m \u001b[0mF\u001b[0m\u001b[0;34m.\u001b[0m\u001b[0mmse_loss\u001b[0m\u001b[0;34m(\u001b[0m\u001b[0mlogits\u001b[0m\u001b[0;34m,\u001b[0m \u001b[0mtarget\u001b[0m\u001b[0;34m)\u001b[0m\u001b[0;34m\u001b[0m\u001b[0;34m\u001b[0m\u001b[0m\n\u001b[0;32m---> 17\u001b[0;31m             \u001b[0mloss\u001b[0m\u001b[0;34m.\u001b[0m\u001b[0mbackward\u001b[0m\u001b[0;34m(\u001b[0m\u001b[0;34m)\u001b[0m\u001b[0;34m\u001b[0m\u001b[0;34m\u001b[0m\u001b[0m\n\u001b[0m\u001b[1;32m     18\u001b[0m             \u001b[0moptimizer\u001b[0m\u001b[0;34m.\u001b[0m\u001b[0mstep\u001b[0m\u001b[0;34m(\u001b[0m\u001b[0;34m)\u001b[0m\u001b[0;34m\u001b[0m\u001b[0;34m\u001b[0m\u001b[0m\n\u001b[1;32m     19\u001b[0m \u001b[0;34m\u001b[0m\u001b[0m\n",
      "\u001b[0;32m~/projects/github/churn-prediction/env/lib/python3.9/site-packages/torch/tensor.py\u001b[0m in \u001b[0;36mbackward\u001b[0;34m(self, gradient, retain_graph, create_graph, inputs)\u001b[0m\n\u001b[1;32m    243\u001b[0m                 \u001b[0mcreate_graph\u001b[0m\u001b[0;34m=\u001b[0m\u001b[0mcreate_graph\u001b[0m\u001b[0;34m,\u001b[0m\u001b[0;34m\u001b[0m\u001b[0;34m\u001b[0m\u001b[0m\n\u001b[1;32m    244\u001b[0m                 inputs=inputs)\n\u001b[0;32m--> 245\u001b[0;31m         \u001b[0mtorch\u001b[0m\u001b[0;34m.\u001b[0m\u001b[0mautograd\u001b[0m\u001b[0;34m.\u001b[0m\u001b[0mbackward\u001b[0m\u001b[0;34m(\u001b[0m\u001b[0mself\u001b[0m\u001b[0;34m,\u001b[0m \u001b[0mgradient\u001b[0m\u001b[0;34m,\u001b[0m \u001b[0mretain_graph\u001b[0m\u001b[0;34m,\u001b[0m \u001b[0mcreate_graph\u001b[0m\u001b[0;34m,\u001b[0m \u001b[0minputs\u001b[0m\u001b[0;34m=\u001b[0m\u001b[0minputs\u001b[0m\u001b[0;34m)\u001b[0m\u001b[0;34m\u001b[0m\u001b[0;34m\u001b[0m\u001b[0m\n\u001b[0m\u001b[1;32m    246\u001b[0m \u001b[0;34m\u001b[0m\u001b[0m\n\u001b[1;32m    247\u001b[0m     \u001b[0;32mdef\u001b[0m \u001b[0mregister_hook\u001b[0m\u001b[0;34m(\u001b[0m\u001b[0mself\u001b[0m\u001b[0;34m,\u001b[0m \u001b[0mhook\u001b[0m\u001b[0;34m)\u001b[0m\u001b[0;34m:\u001b[0m\u001b[0;34m\u001b[0m\u001b[0;34m\u001b[0m\u001b[0m\n",
      "\u001b[0;32m~/projects/github/churn-prediction/env/lib/python3.9/site-packages/torch/autograd/__init__.py\u001b[0m in \u001b[0;36mbackward\u001b[0;34m(tensors, grad_tensors, retain_graph, create_graph, grad_variables, inputs)\u001b[0m\n\u001b[1;32m    143\u001b[0m         \u001b[0mretain_graph\u001b[0m \u001b[0;34m=\u001b[0m \u001b[0mcreate_graph\u001b[0m\u001b[0;34m\u001b[0m\u001b[0;34m\u001b[0m\u001b[0m\n\u001b[1;32m    144\u001b[0m \u001b[0;34m\u001b[0m\u001b[0m\n\u001b[0;32m--> 145\u001b[0;31m     Variable._execution_engine.run_backward(\n\u001b[0m\u001b[1;32m    146\u001b[0m         \u001b[0mtensors\u001b[0m\u001b[0;34m,\u001b[0m \u001b[0mgrad_tensors_\u001b[0m\u001b[0;34m,\u001b[0m \u001b[0mretain_graph\u001b[0m\u001b[0;34m,\u001b[0m \u001b[0mcreate_graph\u001b[0m\u001b[0;34m,\u001b[0m \u001b[0minputs\u001b[0m\u001b[0;34m,\u001b[0m\u001b[0;34m\u001b[0m\u001b[0;34m\u001b[0m\u001b[0m\n\u001b[1;32m    147\u001b[0m         allow_unreachable=True, accumulate_grad=True)  # allow_unreachable flag\n",
      "\u001b[0;31mKeyboardInterrupt\u001b[0m: "
     ]
    }
   ],
   "source": [
    "epoch = 5000\n",
    "val_each_step = 10\n",
    "\n",
    "history = []\n",
    "test_scores = []\n",
    "for i in range(epoch // val_each_step + 1):\n",
    "    history_ = train(val_each_step, train_loader, model, optimizer, device)\n",
    "    history.append(sum(history_) / len(history_))\n",
    "    \n",
    "    test_score = test(test_loader, model, device, dt.min_date, dt.max_date)\n",
    "    test_scores.append(test_score)\n",
    "    \n",
    "    clear_output(wait=True)\n",
    "            \n",
    "    fig, ax = plt.subplots(ncols=2, figsize=(18,5))\n",
    "\n",
    "    ax[0].plot(history)\n",
    "    ax[0].set_title('loss')\n",
    "\n",
    "    ax[1].plot(test_scores)\n",
    "    ax[1].set_title('test_scores')\n",
    "    \n",
    "    plt.show()"
   ]
  },
  {
   "cell_type": "markdown",
   "id": "e2757a92",
   "metadata": {},
   "source": [
    "# Предсказание оттока"
   ]
  },
  {
   "cell_type": "markdown",
   "id": "9b2f45d3",
   "metadata": {},
   "source": [
    "Загрузим все имеющиеся данные и пропустим через модель"
   ]
  },
  {
   "cell_type": "code",
   "execution_count": null,
   "id": "935ab0fc",
   "metadata": {},
   "outputs": [],
   "source": [
    "df = pd.read_excel('data.xlsb', engine='pyxlsb').drop(['ID ЗАКАЗА'], axis=1)\n",
    "data = dt.transform(df, is_inference=True)\n",
    "\n",
    "inference_dataset = RNNDataset(inp=data, target=None, max_len=dt.max_len, stage='inference')\n",
    "inference_loader = DataLoader(inference_dataset, batch_size=1)"
   ]
  },
  {
   "cell_type": "code",
   "execution_count": null,
   "id": "611dce8a",
   "metadata": {},
   "outputs": [],
   "source": [
    "def predict(dataloader, model, device):\n",
    "    users = []\n",
    "    predictions = []\n",
    "    for j, batch in enumerate(dataloader):\n",
    "        user_id = batch['user_id'].to(device)\n",
    "        feature = batch['feature'].to(device)\n",
    "        inp_len = batch['inp_len']\n",
    "        \n",
    "        last_els = [x-1 for x in itertools.accumulate(inp_len.tolist())]\n",
    "\n",
    "        logits = model(user_id, feature, inp_len)[last_els]\n",
    "        \n",
    "        users.extend(user_id[:, 0].tolist())\n",
    "        predictions.extend(logits.reshape(-1).tolist())\n",
    "        \n",
    "    return users, predictions"
   ]
  },
  {
   "cell_type": "code",
   "execution_count": null,
   "id": "29821f4f",
   "metadata": {},
   "outputs": [],
   "source": [
    "model.eval()\n",
    "with torch.no_grad():\n",
    "    predictions = predict(inference_loader, model, device)"
   ]
  },
  {
   "cell_type": "markdown",
   "id": "5814755e",
   "metadata": {},
   "source": [
    "Переведем выходы модели в исходные, ненормализованные даты"
   ]
  },
  {
   "cell_type": "code",
   "execution_count": null,
   "id": "3ec64799",
   "metadata": {},
   "outputs": [],
   "source": [
    "user_next_date = []\n",
    "for user_id, rel_date in zip(*predictions):\n",
    "    date = dt.get_origin_date(user_id, rel_date)\n",
    "    user_next_date.append((dt.idx2user[user_id], date))"
   ]
  },
  {
   "cell_type": "code",
   "execution_count": null,
   "id": "a9f7b216",
   "metadata": {},
   "outputs": [],
   "source": [
    "model_prediction = pd.Series([el[1] for el in user_next_date], index=[el[0] for el in user_next_date])"
   ]
  },
  {
   "cell_type": "code",
   "execution_count": null,
   "id": "4daed052",
   "metadata": {},
   "outputs": [],
   "source": [
    "model_prediction"
   ]
  },
  {
   "cell_type": "markdown",
   "id": "b3f15443",
   "metadata": {},
   "source": [
    "Теперь у нас наконец есть даты предсказания следующей покупки. \n",
    "\n",
    "Дальше при имеющихся данных можно по разному оценить отток. Можно построить когорты и оценить вероятность возврата пользователя через какой то период. Можно построить поверх еще одну модельку, которая уже будет оценивать не следующую дату покупки, а склонность к оттоку.\n",
    "\n",
    "Но в рамках этого тестового задания я ограничусь самыми простыми статистиками.\n",
    "\n",
    "К предсказанию следующей даты мы прибавим среднюю ошибку модели `predict + error`. Далее найдем максимальный интервал бездействия пользователя `user_max_inactivity`. Возьмем максимум `max(user_max_inactivity, predict + error)`. Если пользователь бездействует в течении этого времени - он склонен к оттоку. Если пользователь после этой даты бездействует больше, чем обычно бездействуют перед тем, как воспользовались купоном на следующий заказ, то пользователи в оттоке. Последний пункт следует из гипотезы о том, что купон на следующий заказ дают пользователям, которые были склонны к оттоку (что вообще говоря неверно). Сколько обычно бездействуют будем считать как 2 среднекватратичных отклонения (чтобы наверняка уловить эту обыденность)"
   ]
  },
  {
   "cell_type": "code",
   "execution_count": null,
   "id": "dc4d555a",
   "metadata": {},
   "outputs": [],
   "source": [
    "# Подсчет максимального интервала между покупками\n",
    "def max_inactivity(order_dates):\n",
    "    delta = []\n",
    "    if len(order_dates) > 1:\n",
    "        for i in range(1, len(order_dates)):\n",
    "            delta.append(order_dates[i] - order_dates[i-1])\n",
    "    else:\n",
    "        delta = [0]\n",
    "        \n",
    "    return max(delta)\n",
    "\n",
    "# Подсчет даты последнего заказа\n",
    "def last_order(order_dates):\n",
    "    return order_dates[-1]"
   ]
  },
  {
   "cell_type": "code",
   "execution_count": null,
   "id": "68622d23",
   "metadata": {},
   "outputs": [],
   "source": [
    "df = df[['ДАТА ЗАКАЗА', 'ID КЛИЕНТА', 'НАИМЕНОВАНИЕ АКЦИИ']].rename({'ДАТА ЗАКАЗА': 'date',\n",
    "                                                                    'ID КЛИЕНТА': 'user_id',\n",
    "                                                                    'НАИМЕНОВАНИЕ АКЦИИ': 'prom'}, axis=1)"
   ]
  },
  {
   "cell_type": "code",
   "execution_count": null,
   "id": "26c3fbfe",
   "metadata": {},
   "outputs": [],
   "source": [
    "user_activity = df[['date', 'user_id', 'prom']].sort_values(by=['user_id', 'date'])\n",
    "user_activity = user_activity.groupby('user_id').agg(lambda x: x.tolist())"
   ]
  },
  {
   "cell_type": "markdown",
   "id": "a1ba0e80",
   "metadata": {},
   "source": [
    "Посчитаем максимальный интервал между покупок каждого пользователя"
   ]
  },
  {
   "cell_type": "code",
   "execution_count": null,
   "id": "9f717f0c",
   "metadata": {},
   "outputs": [],
   "source": [
    "user_max_inactivity = user_activity['date'].apply(max_inactivity)"
   ]
  },
  {
   "cell_type": "markdown",
   "id": "0848c4f1",
   "metadata": {},
   "source": [
    "Найдем дату последнего заказа каждого пользователя"
   ]
  },
  {
   "cell_type": "code",
   "execution_count": null,
   "id": "cd94b530",
   "metadata": {},
   "outputs": [],
   "source": [
    "user_last_order = user_activity['date'].apply(last_order)"
   ]
  },
  {
   "cell_type": "markdown",
   "id": "333f199c",
   "metadata": {},
   "source": [
    "И теперь посчитаем максимальную дату, до которой пользователь лояльные и не склонен к оттоку"
   ]
  },
  {
   "cell_type": "code",
   "execution_count": null,
   "id": "fdf26b7e",
   "metadata": {},
   "outputs": [],
   "source": [
    "last_loyal_dates = []\n",
    "for i in model_prediction.index:\n",
    "    last_loyal_dates.append(max(model_prediction[i], user_last_order[i] + user_max_inactivity[i]))\n",
    "loyal_date = pd.Series(last_loyal_dates, index=model_prediction.index)"
   ]
  },
  {
   "cell_type": "markdown",
   "id": "fa8ae89d",
   "metadata": {},
   "source": [
    "Если еще не наступила дата, после которой считаем, что пользователь склонен к оттоку - он лояльный"
   ]
  },
  {
   "cell_type": "code",
   "execution_count": null,
   "id": "71b2bc84",
   "metadata": {},
   "outputs": [],
   "source": [
    "# Максимальная дата в выборке\n",
    "max_date = df['date'].max()"
   ]
  },
  {
   "cell_type": "code",
   "execution_count": null,
   "id": "f8cb61b4",
   "metadata": {},
   "outputs": [],
   "source": [
    "loyal_users = loyal_date[loyal_date >= max_date].index.tolist()"
   ]
  },
  {
   "cell_type": "markdown",
   "id": "a0044049",
   "metadata": {},
   "source": [
    "Теперь найдем пользователей, которые вернулись, воспользовавшись акцией, которой возвращают пользователя."
   ]
  },
  {
   "cell_type": "code",
   "execution_count": null,
   "id": "e9d34851",
   "metadata": {},
   "outputs": [],
   "source": [
    "# Является ли данная акция 'возвращающей'\n",
    "def next_order_prom(line):\n",
    "    if isinstance(line, str):\n",
    "        orders = ['следующий', 'второй', '2-ой', 'третий']\n",
    "        \n",
    "        for o in orders:\n",
    "            if o in line:\n",
    "                return True\n",
    "    return False"
   ]
  },
  {
   "cell_type": "code",
   "execution_count": null,
   "id": "467ca12e",
   "metadata": {},
   "outputs": [],
   "source": [
    "df['prom'] = df['prom'].apply(next_order_prom)"
   ]
  },
  {
   "cell_type": "code",
   "execution_count": null,
   "id": "d351975e",
   "metadata": {},
   "outputs": [],
   "source": [
    "user_activity = df[['date', 'user_id', 'prom']].sort_values(by=['user_id', 'date'])\n",
    "user_activity = user_activity.groupby('user_id').agg(lambda x: x.tolist())"
   ]
  },
  {
   "cell_type": "markdown",
   "id": "170087e0",
   "metadata": {},
   "source": [
    "Посчитаем время, которое прошло до того, как пользователи воспользовались \"возвращающим\" промокодом"
   ]
  },
  {
   "cell_type": "code",
   "execution_count": null,
   "id": "ca7b812d",
   "metadata": {},
   "outputs": [],
   "source": [
    "retantion_delta = []\n",
    "for user, date, prom in user_activity.itertuples(name=None):\n",
    "    for i in range(len(prom)):\n",
    "        if prom[i] and i > 0:\n",
    "            r_delta = date[i] - date[i-1]\n",
    "            retantion_delta.append(r_delta)"
   ]
  },
  {
   "cell_type": "markdown",
   "id": "9bc91793",
   "metadata": {},
   "source": [
    "Распределение"
   ]
  },
  {
   "cell_type": "code",
   "execution_count": null,
   "id": "04bd221a",
   "metadata": {},
   "outputs": [],
   "source": [
    "retantion_delta = pd.Series(retantion_delta)\n",
    "retantion_delta[retantion_delta < 100].hist()"
   ]
  },
  {
   "cell_type": "markdown",
   "id": "6a3adf41",
   "metadata": {},
   "source": [
    "Посчитаем 2 среднекватратичных отклонения"
   ]
  },
  {
   "cell_type": "code",
   "execution_count": null,
   "id": "cf7c041d",
   "metadata": {},
   "outputs": [],
   "source": [
    "max_retantion_time = retantion_delta.std() * 2"
   ]
  },
  {
   "cell_type": "markdown",
   "id": "ab62efb8",
   "metadata": {},
   "source": [
    "Найдем дату, после которой считается, что пользователь в оттоке."
   ]
  },
  {
   "cell_type": "code",
   "execution_count": null,
   "id": "0b305205",
   "metadata": {},
   "outputs": [],
   "source": [
    "churn_date = loyal_date + max_retantion_time"
   ]
  },
  {
   "cell_type": "markdown",
   "id": "f54a17ea",
   "metadata": {},
   "source": [
    "Посчитаем пользователей в оттоке и склонных к оттоку"
   ]
  },
  {
   "cell_type": "code",
   "execution_count": null,
   "id": "33955281",
   "metadata": {},
   "outputs": [],
   "source": [
    "churn_users = churn_date[(churn_date < max_date)].index.tolist()\n",
    "prone_churn_users = churn_date[(churn_date >= max_date) & (loyal_date < max_date)].index.tolist()"
   ]
  },
  {
   "cell_type": "markdown",
   "id": "3f12880b",
   "metadata": {},
   "source": [
    "Проверка, всех ли отнесли к той или иной группе"
   ]
  },
  {
   "cell_type": "code",
   "execution_count": null,
   "id": "737e31fe",
   "metadata": {},
   "outputs": [],
   "source": [
    "assert (len(prone_churn_users) + len(churn_users) + len(loyal_users)) == len(user_activity)"
   ]
  },
  {
   "cell_type": "markdown",
   "id": "ccce7028",
   "metadata": {},
   "source": [
    "`loyal_users` - лояльные пользователи\n",
    "\n",
    "`prone_churn_users` - склонные к оттоку\n",
    "\n",
    "`churn_users` - в оттоке "
   ]
  },
  {
   "cell_type": "markdown",
   "id": "d528fc49",
   "metadata": {},
   "source": [
    "Я не до конца понял, b2b клиенты предоставляют данные или мы делаем для них модель оттока. Перечислял исходя из полученных данных(в столбике \"наименование акции\" присутствует \"для блогеров\" и вряд ли они ищут работу) и задачи.\n",
    "Список факторов, которые я бы использовал для построения модели оттока, если у меня есть возможность получить любую информацию о клиентах и их действиях:\n",
    "* Конкретные даты покупок, а не условные таймстемпы\n",
    "* Активность пользователей у конкурентов\n",
    "* Глобальные и сезонные акции, которые запускает компания\n",
    "* Когда какая рекламная кампания была развернута\n",
    "* Статистика активности внутри приложения/сайта\n",
    "* Характеристики товаров. Названия, тип и тд.\n",
    "* Возраст, доход, род деятельности клиента\n",
    "* Регион заказа\n",
    "* Если это онлайн ритейл, то благоприятность погоды."
   ]
  }
 ],
 "metadata": {
  "kernelspec": {
   "display_name": "Python 3",
   "language": "python",
   "name": "python3"
  },
  "language_info": {
   "codemirror_mode": {
    "name": "ipython",
    "version": 3
   },
   "file_extension": ".py",
   "mimetype": "text/x-python",
   "name": "python",
   "nbconvert_exporter": "python",
   "pygments_lexer": "ipython3",
   "version": "3.9.5"
  }
 },
 "nbformat": 4,
 "nbformat_minor": 5
}
